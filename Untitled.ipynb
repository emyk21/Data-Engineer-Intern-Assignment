{
 "cells": [
  {
   "cell_type": "markdown",
   "metadata": {},
   "source": [
    "Creating a Generic Program to read a .json file by EMMANUEL AKINSOLA"
   ]
  },
  {
   "cell_type": "code",
   "execution_count": null,
   "metadata": {},
   "outputs": [],
   "source": [
    "{\n",
    "    \"attributes\": {\n",
    "      \"Name of church\": \"RCCG\",\n",
    "      \"programtype\": \"Crusade\",\n",
    "      \"location\": \"Abuja\",\"Lagos\",\"Port Harcourt\",\"London\"\n",
    "      \"year\":2022 \n",
    "    },\n",
    "    \"message\": {\n",
    "      \"battle\": {\n",
    "        \"id\": \"Glory upon glory\",\n",
    "        \"theme\": \"Let the fire fall\",\n",
    "        \"type of members\": \"All categories\",\n",
    "        \"settings\": {\n",
    "          \"minParticipants\": 1000,\n",
    "          \"maxParticipants\": 5000,\n",
    "          \"colour\": \"Black\",\"White\"\n",
    "          \"ageBracket\": 20-60,\n",
    "          \"countdown\": 69,\n",
    "          \"duration\": 200,\n",
    "          \"archetype\": {\n",
    "            \"name\": \"Bring it on\",\n",
    "            \"iconId\": \"Enter here\"\n",
    "          }\n",
    "        },\n",
    "        \"status\": \"Gold\",\"Silver\"\n",
    "        \"expiryDuration\": 240,\n",
    "        \"startTime\": 398,\n",
    "        \"endTime\": 640,\n",
    "        \"creator\": {\n",
    "          \"id\": \"Allow him to go\",\n",
    "          \"nickname\": \"Musky\",\n",
    "          \"title\": \"Natural Resources available\",\n",
    "          \"accountType\": \"Current\",\n",
    "          \"countryCode\": 23401,\n",
    "          \"upscaleType\": \"Elite\",\"Downtrodden\",\"MIddleclass\"\n",
    "        },\n",
    "        \"observers\": [\n",
    "          {\n",
    "            \"user\": {\n",
    "              \"id\": \"That's my new name\",\n",
    "              \"theme\": \"Allow me rest\",\n",
    "              \"title\": \"Excel every day\",\n",
    "              \"accountType\": \"Savings\",\n",
    "              \"countryCode\": 23401,\n",
    "             \"upscaleType\": \"Elite\",\"Downtrodden\",\"MIddleclass\"\n",
    "        },\n",
    "            },\n",
    "            \"creator\": false,\n",
    "            \"ranking\": 398,\n",
    "            \"numberOfTrades\": 960,\n",
    "            \"performance\": \"Blow it out of proportion\"\n",
    "          }\n",
    "        ]\n",
    "      },\n",
    "      \"additives\": {\n",
    "        \"id\": \"Send it all up\",\n",
    "        \"theme\": \"Power is for all\",\n",
    "        \"title\": \"Give God the glory\",\n",
    "        \"accountType\": \"Savings\",\n",
    "        \"countryCode\": 23401,\n",
    "        \"upscaleType\": \"Elite\",\"Downtrodden\",\"MIddleclass\"\n",
    "      },\n",
    "      \"participantIds\": [\n",
    "        \"All are invited\",\n",
    "        \"None excluded\"\n",
    "      ]\n",
    "    }\n",
    "  }"
   ]
  }
 ],
 "metadata": {
  "kernelspec": {
   "display_name": "Python 3",
   "language": "python",
   "name": "python3"
  },
  "language_info": {
   "codemirror_mode": {
    "name": "ipython",
    "version": 3
   },
   "file_extension": ".py",
   "mimetype": "text/x-python",
   "name": "python",
   "nbconvert_exporter": "python",
   "pygments_lexer": "ipython3",
   "version": "3.7.6"
  }
 },
 "nbformat": 4,
 "nbformat_minor": 4
}
